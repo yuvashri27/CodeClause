{
 "cells": [
  {
   "cell_type": "code",
   "execution_count": 1,
   "id": "ebeb9dbe",
   "metadata": {},
   "outputs": [],
   "source": [
    "import pandas as pd\n",
    "import numpy as np\n",
    "import matplotlib.pyplot as plt\n",
    "import statsmodels.api as sm\n",
    "from statsmodels.tsa.stattools import adfuller\n",
    "from statsmodels.tsa.seasonal import seasonal_decompose\n",
    "from statsmodels.graphics.tsaplots import plot_acf, plot_pacf\n",
    "from statsmodels.tsa.statespace.sarimax import SARIMAX\n",
    "from sklearn.metrics import mean_squared_error"
   ]
  },
  {
   "cell_type": "code",
   "execution_count": 2,
   "id": "91d084bd",
   "metadata": {},
   "outputs": [],
   "source": [
    "# Load historical sales data\n",
    "df = pd.read_csv('sales_data.csv')  "
   ]
  },
  {
   "cell_type": "code",
   "execution_count": 3,
   "id": "0b6ba949",
   "metadata": {},
   "outputs": [
    {
     "name": "stdout",
     "output_type": "stream",
     "text": [
      "   Order   File_Type  SKU_number  SoldFlag  SoldCount MarketingType  \\\n",
      "0      2  Historical     1737127       0.0        0.0             D   \n",
      "1      3  Historical     3255963       0.0        0.0             D   \n",
      "2      4  Historical      612701       0.0        0.0             D   \n",
      "3      6  Historical      115883       1.0        1.0             D   \n",
      "4      7  Historical      863939       1.0        1.0             D   \n",
      "\n",
      "   ReleaseNumber  New_Release_Flag  StrengthFactor  PriceReg  ReleaseYear  \\\n",
      "0             15                 1        682743.0     44.99         2015   \n",
      "1              7                 1       1016014.0     24.81         2005   \n",
      "2              0                 0        340464.0     46.00         2013   \n",
      "3              4                 1        334011.0    100.00         2006   \n",
      "4              2                 1       1287938.0    121.95         2010   \n",
      "\n",
      "   ItemCount  LowUserPrice  LowNetPrice  \n",
      "0          8         28.97        31.84  \n",
      "1         39          0.00        15.54  \n",
      "2         34         30.19        27.97  \n",
      "3         20        133.93        83.15  \n",
      "4         28          4.00        23.99  \n",
      "<class 'pandas.core.frame.DataFrame'>\n",
      "RangeIndex: 198917 entries, 0 to 198916\n",
      "Data columns (total 14 columns):\n",
      " #   Column            Non-Null Count   Dtype  \n",
      "---  ------            --------------   -----  \n",
      " 0   Order             198917 non-null  int64  \n",
      " 1   File_Type         198917 non-null  object \n",
      " 2   SKU_number        198917 non-null  int64  \n",
      " 3   SoldFlag          75996 non-null   float64\n",
      " 4   SoldCount         75996 non-null   float64\n",
      " 5   MarketingType     198917 non-null  object \n",
      " 6   ReleaseNumber     198917 non-null  int64  \n",
      " 7   New_Release_Flag  198917 non-null  int64  \n",
      " 8   StrengthFactor    198917 non-null  float64\n",
      " 9   PriceReg          198917 non-null  float64\n",
      " 10  ReleaseYear       198917 non-null  int64  \n",
      " 11  ItemCount         198917 non-null  int64  \n",
      " 12  LowUserPrice      198917 non-null  float64\n",
      " 13  LowNetPrice       198917 non-null  float64\n",
      "dtypes: float64(6), int64(6), object(2)\n",
      "memory usage: 21.2+ MB\n",
      "None\n"
     ]
    }
   ],
   "source": [
    "# Explore the data\n",
    "print(df.head())\n",
    "print(df.info())"
   ]
  },
  {
   "cell_type": "code",
   "execution_count": 4,
   "id": "9a16996d",
   "metadata": {},
   "outputs": [],
   "source": [
    "# Assuming 'SoldCount' represents the demand or sales count\n",
    "demand_column = 'SoldCount'"
   ]
  },
  {
   "cell_type": "code",
   "execution_count": 5,
   "id": "9d815202",
   "metadata": {},
   "outputs": [],
   "source": [
    "# Fill or drop missing values\n",
    "df[demand_column].fillna(method='ffill', inplace=True)"
   ]
  },
  {
   "cell_type": "code",
   "execution_count": 6,
   "id": "5d29de23",
   "metadata": {},
   "outputs": [
    {
     "data": {
      "image/png": "[encoded data removed]",
      "text/plain": [
       "<Figure size 432x288 with 1 Axes>"
      ]
     },
     "metadata": {
      "needs_background": "light"
     },
     "output_type": "display_data"
    }
   ],
   "source": [
    "# Plot historical demand\n",
    "plt.plot(df.index, df[demand_column], label='Historical Demand')\n",
    "plt.legend()\n",
    "plt.show()"
   ]
  },
  {
   "cell_type": "code",
   "execution_count": 7,
   "id": "46cf84be",
   "metadata": {},
   "outputs": [
    {
     "data": {
      "image/png": "[encoded data removed]",
      "text/plain": [
       "<Figure size 432x288 with 4 Axes>"
      ]
     },
     "metadata": {
      "needs_background": "light"
     },
     "output_type": "display_data"
    }
   ],
   "source": [
    "# Decompose time series data to visualize seasonality and trends\n",
    "result = seasonal_decompose(df[demand_column], model='additive', period=1) \n",
    "result.plot()\n",
    "plt.show()"
   ]
  },
  {
   "cell_type": "code",
   "execution_count": 8,
   "id": "d7d55c8d",
   "metadata": {},
   "outputs": [
    {
     "name": "stdout",
     "output_type": "stream",
     "text": [
      "ADF Statistic: -21.63655507266174\n",
      "p-value: 0.0\n"
     ]
    }
   ],
   "source": [
    "# Perform Augmented Dickey-Fuller test for stationarity\n",
    "result_adf = adfuller(df[demand_column])\n",
    "print('ADF Statistic:', result_adf[0])\n",
    "print('p-value:', result_adf[1])"
   ]
  },
  {
   "cell_type": "code",
   "execution_count": 9,
   "id": "233260d1",
   "metadata": {},
   "outputs": [
    {
     "name": "stdout",
     "output_type": "stream",
     "text": [
      "ADF Statistic after differencing: -56.27395363356485\n",
      "p-value after differencing: 0.0\n"
     ]
    }
   ],
   "source": [
    "# Check stationarity after differencing\n",
    "df['Demand_diff'] = df[demand_column].diff().dropna()\n",
    "\n",
    "# Drop infinite and NaN values\n",
    "df = df.replace([np.inf, -np.inf], np.nan).dropna()\n",
    "\n",
    "# Check stationarity again\n",
    "result_adf_diff = adfuller(df['Demand_diff'])\n",
    "print('ADF Statistic after differencing:', result_adf_diff[0])\n",
    "print('p-value after differencing:', result_adf_diff[1])"
   ]
  },
  {
   "cell_type": "code",
   "execution_count": 10,
   "id": "6d99e977",
   "metadata": {},
   "outputs": [
    {
     "data": {
      "image/png": "[encoded data removed]",
      "text/plain": [
       "<Figure size 432x288 with 1 Axes>"
      ]
     },
     "metadata": {
      "needs_background": "light"
     },
     "output_type": "display_data"
    },
    {
     "data": {
      "image/png": "[encoded data removed]",
      "text/plain": [
       "<Figure size 432x288 with 1 Axes>"
      ]
     },
     "metadata": {
      "needs_background": "light"
     },
     "output_type": "display_data"
    }
   ],
   "source": [
    "# Plot autocorrelation and partial autocorrelation with specified method\n",
    "plot_acf(df['Demand_diff'], lags=20)\n",
    "plot_pacf(df['Demand_diff'], lags=20, method='ywm')  \n",
    "plt.show()"
   ]
  },
  {
   "cell_type": "code",
   "execution_count": 19,
   "id": "1fcf8e89",
   "metadata": {},
   "outputs": [],
   "source": [
    "p, d, q = 1, 1, 1  \n",
    "P, D, Q, m = 1, 1, 1, 12 \n",
    "# Define the SARIMA model\n",
    "order = (p, d, q)  # Order determined from ACF and PACF plots\n",
    "seasonal_order = (P, D, Q, m)  # Seasonal order determined from ACF and PACF plots\n",
    "model = SARIMAX(df[demand_column], order=order, seasonal_order=seasonal_order)"
   ]
  },
  {
   "cell_type": "code",
   "execution_count": 20,
   "id": "280b04fc",
   "metadata": {},
   "outputs": [],
   "source": [
    "# Fit the model\n",
    "results = model.fit()"
   ]
  },
  {
   "cell_type": "code",
   "execution_count": 21,
   "id": "4ac94357",
   "metadata": {},
   "outputs": [
    {
     "name": "stdout",
     "output_type": "stream",
     "text": [
      "                                     SARIMAX Results                                      \n",
      "==========================================================================================\n",
      "Dep. Variable:                          SoldCount   No. Observations:                75995\n",
      "Model:             SARIMAX(1, 1, 1)x(1, 1, 1, 12)   Log Likelihood             -117941.990\n",
      "Date:                            Thu, 22 Feb 2024   AIC                         235893.979\n",
      "Time:                                    20:06:11   BIC                         235940.171\n",
      "Sample:                                         0   HQIC                        235908.172\n",
      "                                          - 75995                                         \n",
      "Covariance Type:                              opg                                         \n",
      "==============================================================================\n",
      "                 coef    std err          z      P>|z|      [0.025      0.975]\n",
      "------------------------------------------------------------------------------\n",
      "ar.L1          0.1070      0.001    126.214      0.000       0.105       0.109\n",
      "ma.L1         -0.9980      0.000  -5916.566      0.000      -0.998      -0.998\n",
      "ar.S.L12       0.0122      0.002      5.845      0.000       0.008       0.016\n",
      "ma.S.L12      -0.9994      0.000  -2758.490      0.000      -1.000      -0.999\n",
      "sigma2         1.3086      0.001   2356.081      0.000       1.308       1.310\n",
      "===================================================================================\n",
      "Ljung-Box (L1) (Q):                   0.01   Jarque-Bera (JB):        1003331054.20\n",
      "Prob(Q):                              0.93   Prob(JB):                         0.00\n",
      "Heteroskedasticity (H):               0.27   Skew:                            15.16\n",
      "Prob(H) (two-sided):                  0.00   Kurtosis:                       565.14\n",
      "===================================================================================\n",
      "\n",
      "Warnings:\n",
      "[1] Covariance matrix calculated using the outer product of gradients (complex-step).\n"
     ]
    }
   ],
   "source": [
    "# Assuming 'results' is the fitted SARIMA model\n",
    "print(results.summary())"
   ]
  },
  {
   "cell_type": "code",
   "execution_count": 22,
   "id": "2981d1d7",
   "metadata": {},
   "outputs": [
    {
     "data": {
      "image/png": "[encoded data removed]",
      "text/plain": [
       "<Figure size 432x288 with 1 Axes>"
      ]
     },
     "metadata": {
      "needs_background": "light"
     },
     "output_type": "display_data"
    }
   ],
   "source": [
    "# Plot historical demand and forecast\n",
    "plt.plot(df.index, df[demand_column], label='Historical Demand')\n",
    "plt.plot(df.index, df[demand_column], label='Active')\n",
    "plt.legend()\n",
    "plt.show()"
   ]
  },
  {
   "cell_type": "code",
   "execution_count": null,
   "id": "c22de0c5",
   "metadata": {},
   "outputs": [],
   "source": []
  }
 ],
 "metadata": {
  "kernelspec": {
   "display_name": "Python 3 (ipykernel)",
   "language": "python",
   "name": "python3"
  },
  "language_info": {
   "codemirror_mode": {
    "name": "ipython",
    "version": 3
   },
   "file_extension": ".py",
   "mimetype": "text/x-python",
   "name": "python",
   "nbconvert_exporter": "python",
   "pygments_lexer": "ipython3",
   "version": "3.9.12"
  }
 },
 "nbformat": 4,
 "nbformat_minor": 5
}
